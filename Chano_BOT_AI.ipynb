{
  "nbformat": 4,
  "nbformat_minor": 0,
  "metadata": {
    "colab": {
      "name": "Chano BOT AI",
      "provenance": [],
      "authorship_tag": "ABX9TyOdT9OmJv+DCaXJeH6vo2TO",
      "include_colab_link": true
    },
    "kernelspec": {
      "name": "python3",
      "display_name": "Python 3"
    },
    "language_info": {
      "name": "python"
    },
    "accelerator": "TPU"
  },
  "cells": [
    {
      "cell_type": "markdown",
      "metadata": {
        "id": "view-in-github",
        "colab_type": "text"
      },
      "source": [
        "<a href=\"https://colab.research.google.com/github/bernaberb/Bot-Chano-AI/blob/main/Chano_BOT_AI.ipynb\" target=\"_parent\"><img src=\"https://colab.research.google.com/assets/colab-badge.svg\" alt=\"Open In Colab\"/></a>"
      ]
    },
    {
      "cell_type": "markdown",
      "source": [
        "# Creando un bot que tuitee frases como Chano\n",
        "## Twitter [@CHANO_BOT](https://www.twitter.com/chano_bot/)\n",
        "\n",
        "Chano_Bot tuitea frases que fueron generadas por este pequeño programa.\n",
        "\n",
        "Usé el modelo de generación de textos por AI de OpenAI [GPT3](https://es.wikipedia.org/wiki/GPT-3) (que es capaz de generar textos con una coherencia increíble) y lo afiné con las frases de las canciones de Tan Biónica y de Chano como solista.\n",
        "\n",
        "Como resultado de \"entrenarlo\" con sus canciones, cada vez que se llama al modelo con el prompt \"Chano\", GPT nos devuelve frases que mantienen el estilo del cantante.\n",
        "\n",
        "Luego por supuesto tengo que elegir para twitter las frases más coherentes y fieles a su estilo ya que no todas las salidas son aceptables. Sin embargo, por haber sido afinado con tan pocos datos (+-600 frases), creo que los resultados son muy buenos. En una hora de correrlo surgieron +-150 frases originales que tranquilamente podrían ser de una de sus canciones!\n",
        "\n",
        "\n",
        "\n",
        "---\n",
        "\n"
      ],
      "metadata": {
        "id": "ubj-m2xaQnww"
      }
    },
    {
      "cell_type": "markdown",
      "source": [
        "Instalamos OpenAI\n"
      ],
      "metadata": {
        "id": "ILsMKiLHBmhd"
      }
    },
    {
      "cell_type": "code",
      "execution_count": null,
      "metadata": {
        "colab": {
          "base_uri": "https://localhost:8080/",
          "height": 591
        },
        "id": "dYsUSTSKIyVy",
        "outputId": "d73b0b05-a3d5-4a16-e9fb-63ed6b78cdb6",
        "collapsed": true
      },
      "outputs": [
        {
          "output_type": "stream",
          "name": "stdout",
          "text": [
            "Collecting openai\n",
            "  Downloading openai-0.14.0.tar.gz (40 kB)\n",
            "\u001b[K     |████████████████████████████████| 40 kB 3.8 MB/s \n",
            "\u001b[?25hRequirement already satisfied: requests>=2.20 in /usr/local/lib/python3.7/dist-packages (from openai) (2.23.0)\n",
            "Requirement already satisfied: tqdm in /usr/local/lib/python3.7/dist-packages (from openai) (4.62.3)\n",
            "Requirement already satisfied: pandas>=1.2.3 in /usr/local/lib/python3.7/dist-packages (from openai) (1.3.5)\n",
            "Collecting pandas-stubs>=1.1.0.11\n",
            "  Downloading pandas_stubs-1.2.0.47-py3-none-any.whl (161 kB)\n",
            "\u001b[K     |████████████████████████████████| 161 kB 8.6 MB/s \n",
            "\u001b[?25hRequirement already satisfied: openpyxl>=3.0.7 in /usr/local/lib/python3.7/dist-packages (from openai) (3.0.9)\n",
            "Requirement already satisfied: et-xmlfile in /usr/local/lib/python3.7/dist-packages (from openpyxl>=3.0.7->openai) (1.1.0)\n",
            "Requirement already satisfied: numpy>=1.17.3 in /usr/local/lib/python3.7/dist-packages (from pandas>=1.2.3->openai) (1.19.5)\n",
            "Requirement already satisfied: python-dateutil>=2.7.3 in /usr/local/lib/python3.7/dist-packages (from pandas>=1.2.3->openai) (2.8.2)\n",
            "Requirement already satisfied: pytz>=2017.3 in /usr/local/lib/python3.7/dist-packages (from pandas>=1.2.3->openai) (2018.9)\n",
            "Requirement already satisfied: typing-extensions>=3.7.4.3 in /usr/local/lib/python3.7/dist-packages (from pandas-stubs>=1.1.0.11->openai) (3.10.0.2)\n",
            "Requirement already satisfied: six>=1.5 in /usr/local/lib/python3.7/dist-packages (from python-dateutil>=2.7.3->pandas>=1.2.3->openai) (1.15.0)\n",
            "Requirement already satisfied: certifi>=2017.4.17 in /usr/local/lib/python3.7/dist-packages (from requests>=2.20->openai) (2021.10.8)\n",
            "Requirement already satisfied: urllib3!=1.25.0,!=1.25.1,<1.26,>=1.21.1 in /usr/local/lib/python3.7/dist-packages (from requests>=2.20->openai) (1.24.3)\n",
            "Requirement already satisfied: chardet<4,>=3.0.2 in /usr/local/lib/python3.7/dist-packages (from requests>=2.20->openai) (3.0.4)\n",
            "Requirement already satisfied: idna<3,>=2.5 in /usr/local/lib/python3.7/dist-packages (from requests>=2.20->openai) (2.10)\n",
            "Building wheels for collected packages: openai\n",
            "  Building wheel for openai (setup.py) ... \u001b[?25l\u001b[?25hdone\n",
            "  Created wheel for openai: filename=openai-0.14.0-py3-none-any.whl size=49824 sha256=5a5d4c059210aabad2daa66015337f8ddf8aed91b0df0cf3ee0460714a96c54c\n",
            "  Stored in directory: /root/.cache/pip/wheels/45/5f/9e/6035f88eb6fc313fd26ddb4d4b65bfb6fa02d7e5a124160fe9\n",
            "Successfully built openai\n",
            "Installing collected packages: pandas-stubs, openai\n",
            "Successfully installed openai-0.14.0 pandas-stubs-1.2.0.47\n"
          ]
        },
        {
          "output_type": "display_data",
          "data": {
            "application/vnd.colab-display-data+json": {
              "pip_warning": {
                "packages": [
                  "pandas"
                ]
              }
            }
          },
          "metadata": {}
        }
      ],
      "source": [
        "!pip install openai"
      ]
    },
    {
      "cell_type": "markdown",
      "source": [
        "Guardamos la api key que se obtiene de la web de [OpenAI](https://beta.openai.com/)"
      ],
      "metadata": {
        "id": "IMxxg3coVskq"
      }
    },
    {
      "cell_type": "code",
      "source": [
        "api_key = \"OCULTA\""
      ],
      "metadata": {
        "id": "Ii1IxXRFUDZm"
      },
      "execution_count": null,
      "outputs": []
    },
    {
      "cell_type": "markdown",
      "source": [
        "Subimos nuestro archivo con los datos para afinar el modelo, que debe estar en formato JSONL.\n",
        "\n",
        "Documentación sobre cómo preparar el archivo [acá](https://beta.openai.com/docs/guides/fine-tuning/preparing-your-dataset)\n",
        "\n",
        "Las letras de todas las canciones las conseguí previamente usando la [API de Genius](https://docs.genius.com/) (no me explayo acá porque ya lo tenía hecho para otro proyecto), después las limpié y separé en pequeños textos a mi criterio, quedando +-650 frases únicas."
      ],
      "metadata": {
        "id": "J5O6ua_bU4Nu"
      }
    },
    {
      "cell_type": "code",
      "source": [
        "import os\n",
        "import openai\n",
        "openai.api_key = api_key\n",
        "openai.File.create(\n",
        "  file=open(\"chanoTrain2.jsonl\"), purpose=\"fine-tune\"\n",
        ")"
      ],
      "metadata": {
        "colab": {
          "base_uri": "https://localhost:8080/"
        },
        "id": "cSeAO1jd1zqV",
        "outputId": "62ca19a0-1538-4339-ae65-fae22fcc7b31"
      },
      "execution_count": null,
      "outputs": [
        {
          "output_type": "execute_result",
          "data": {
            "text/plain": [
              "<File file id=file-8UFCdAvVPDQMPfj3pNJ7jAhx at 0x7f64b30c2dd0> JSON: {\n",
              "  \"bytes\": 77783,\n",
              "  \"created_at\": 1644593077,\n",
              "  \"filename\": \"chanoTrain2.jsonl\",\n",
              "  \"id\": \"file-8UFCdAvVPDQMPfj3pNJ7jAhx\",\n",
              "  \"object\": \"file\",\n",
              "  \"purpose\": \"fine-tune\",\n",
              "  \"status\": \"uploaded\",\n",
              "  \"status_details\": null\n",
              "}"
            ]
          },
          "metadata": {},
          "execution_count": 6
        }
      ]
    },
    {
      "cell_type": "markdown",
      "source": [
        "Con lo que subimos arriba creamos el modelo indicándole cuál es el archivo que queremos que use. Documentación [acá](https://beta.openai.com/docs/api-reference/fine-tunes/create)."
      ],
      "metadata": {
        "id": "CjB3mL9k_UJs"
      }
    },
    {
      "cell_type": "code",
      "source": [
        "import os\n",
        "import openai\n",
        "\n",
        "openai.api_key = (api_key)\n",
        "openai.FineTune.create(training_file=\"file-xUEYJdwgdHyoCR63nKLVYjbP\")\n"
      ],
      "metadata": {
        "colab": {
          "base_uri": "https://localhost:8080/"
        },
        "id": "VNlh6k260x-5",
        "outputId": "4e162905-c7af-4858-b88a-e1aac365e430"
      },
      "execution_count": null,
      "outputs": [
        {
          "output_type": "execute_result",
          "data": {
            "text/plain": [
              "<FineTune fine-tune id=ft-PfXRLmdyuVA3MsAF9wXelTVK at 0x7f64b3065ad0> JSON: {\n",
              "  \"created_at\": 1644593081,\n",
              "  \"events\": [\n",
              "    {\n",
              "      \"created_at\": 1644593081,\n",
              "      \"level\": \"info\",\n",
              "      \"message\": \"Created fine-tune: ft-PfXRLmdyuVA3MsAF9wXelTVK\",\n",
              "      \"object\": \"fine-tune-event\"\n",
              "    }\n",
              "  ],\n",
              "  \"fine_tuned_model\": null,\n",
              "  \"hyperparams\": {\n",
              "    \"batch_size\": null,\n",
              "    \"learning_rate_multiplier\": null,\n",
              "    \"n_epochs\": 4,\n",
              "    \"prompt_loss_weight\": 0.1\n",
              "  },\n",
              "  \"id\": \"ft-PfXRLmdyuVA3MsAF9wXelTVK\",\n",
              "  \"model\": \"curie\",\n",
              "  \"object\": \"fine-tune\",\n",
              "  \"organization_id\": \"org-vuMjBZ3MAlUdZLyhw3qrq7He\",\n",
              "  \"result_files\": [],\n",
              "  \"status\": \"pending\",\n",
              "  \"training_files\": [\n",
              "    {\n",
              "      \"bytes\": 64264,\n",
              "      \"created_at\": 1644525495,\n",
              "      \"filename\": \"chanoTrain2.jsonl\",\n",
              "      \"id\": \"file-xUEYJdwgdHyoCR63nKLVYjbP\",\n",
              "      \"object\": \"file\",\n",
              "      \"purpose\": \"fine-tune\",\n",
              "      \"status\": \"processed\",\n",
              "      \"status_details\": null\n",
              "    }\n",
              "  ],\n",
              "  \"updated_at\": 1644593081,\n",
              "  \"validation_files\": []\n",
              "}"
            ]
          },
          "metadata": {},
          "execution_count": 7
        }
      ]
    },
    {
      "cell_type": "markdown",
      "source": [
        "Con este comando listamos los modelos que creamos. Cuando el campo \"fine_tuned_model\" no diga null, significa que está listo para usar. En ese campo estará el nombre del modelo que tenemos que indicarle en el próximo paso para generar las salidas.\n"
      ],
      "metadata": {
        "id": "4VPZS-Pb_YvI"
      }
    },
    {
      "cell_type": "code",
      "source": [
        "import os\n",
        "import openai\n",
        "\n",
        "openai.api_key = (api_key)\n",
        "openai.FineTune.list()\n"
      ],
      "metadata": {
        "colab": {
          "base_uri": "https://localhost:8080/"
        },
        "id": "JSFR9UuQ-tg5",
        "outputId": "c30d93e8-8a0f-4920-b61d-534d8c246bad"
      },
      "execution_count": null,
      "outputs": [
        {
          "output_type": "execute_result",
          "data": {
            "text/plain": [
              "<OpenAIObject list at 0x7f64b30800b0> JSON: {\n",
              "  \"data\": [\n",
              "    {\n",
              "      \"created_at\": 1644434790,\n",
              "      \"fine_tuned_model\": \"curie:ft-personal-2022-02-09-19-27-51\",\n",
              "      \"hyperparams\": {\n",
              "        \"batch_size\": 1,\n",
              "        \"learning_rate_multiplier\": 0.05,\n",
              "        \"n_epochs\": 4,\n",
              "        \"prompt_loss_weight\": 0.1\n",
              "      },\n",
              "      \"id\": \"ft-L2Ac70ZKn3Ft8XFIUWfgBwrt\",\n",
              "      \"model\": \"curie\",\n",
              "      \"object\": \"fine-tune\",\n",
              "      \"organization_id\": \"org-vuMjBZ3MAlUdZLyhw3qrq7He\",\n",
              "      \"result_files\": [\n",
              "        {\n",
              "          \"bytes\": 727,\n",
              "          \"created_at\": 1644434874,\n",
              "          \"filename\": \"compiled_results.csv\",\n",
              "          \"id\": \"file-6C61Cz6h2WdkUvljVtElxOjw\",\n",
              "          \"object\": \"file\",\n",
              "          \"purpose\": \"fine-tune-results\",\n",
              "          \"status\": \"processed\",\n",
              "          \"status_details\": null\n",
              "        }\n",
              "      ],\n",
              "      \"status\": \"succeeded\",\n",
              "      \"training_files\": [\n",
              "        {\n",
              "          \"bytes\": 256,\n",
              "          \"created_at\": 1644434605,\n",
              "          \"filename\": \"tbfrases.jsonl\",\n",
              "          \"id\": \"file-EObr8wu9gyOXP7fi0rY1wegx\",\n",
              "          \"object\": \"file\",\n",
              "          \"purpose\": \"fine-tune\",\n",
              "          \"status\": \"processed\",\n",
              "          \"status_details\": null\n",
              "        }\n",
              "      ],\n",
              "      \"updated_at\": 1644434877,\n",
              "      \"validation_files\": []\n",
              "    },\n",
              "    {\n",
              "      \"created_at\": 1644435108,\n",
              "      \"fine_tuned_model\": \"curie:ft-personal-2022-02-09-19-33-09\",\n",
              "      \"hyperparams\": {\n",
              "        \"batch_size\": 1,\n",
              "        \"learning_rate_multiplier\": 0.05,\n",
              "        \"n_epochs\": 4,\n",
              "        \"prompt_loss_weight\": 0.1\n",
              "      },\n",
              "      \"id\": \"ft-ArJZkLOZxxRGtUmP46QdirXx\",\n",
              "      \"model\": \"curie\",\n",
              "      \"object\": \"fine-tune\",\n",
              "      \"organization_id\": \"org-vuMjBZ3MAlUdZLyhw3qrq7He\",\n",
              "      \"result_files\": [\n",
              "        {\n",
              "          \"bytes\": 727,\n",
              "          \"created_at\": 1644435191,\n",
              "          \"filename\": \"compiled_results.csv\",\n",
              "          \"id\": \"file-H1VUjSjEulQb43GitZF0PhDr\",\n",
              "          \"object\": \"file\",\n",
              "          \"purpose\": \"fine-tune-results\",\n",
              "          \"status\": \"processed\",\n",
              "          \"status_details\": null\n",
              "        }\n",
              "      ],\n",
              "      \"status\": \"succeeded\",\n",
              "      \"training_files\": [\n",
              "        {\n",
              "          \"bytes\": 256,\n",
              "          \"created_at\": 1644434605,\n",
              "          \"filename\": \"tbfrases.jsonl\",\n",
              "          \"id\": \"file-EObr8wu9gyOXP7fi0rY1wegx\",\n",
              "          \"object\": \"file\",\n",
              "          \"purpose\": \"fine-tune\",\n",
              "          \"status\": \"processed\",\n",
              "          \"status_details\": null\n",
              "        }\n",
              "      ],\n",
              "      \"updated_at\": 1644435194,\n",
              "      \"validation_files\": []\n",
              "    },\n",
              "    {\n",
              "      \"created_at\": 1644523429,\n",
              "      \"fine_tuned_model\": \"curie:ft-personal-2022-02-10-20-17-29\",\n",
              "      \"hyperparams\": {\n",
              "        \"batch_size\": 1,\n",
              "        \"learning_rate_multiplier\": 0.05,\n",
              "        \"n_epochs\": 4,\n",
              "        \"prompt_loss_weight\": 0.1\n",
              "      },\n",
              "      \"id\": \"ft-dl2C7deF19iWVL67n8RqN6ry\",\n",
              "      \"model\": \"curie\",\n",
              "      \"object\": \"fine-tune\",\n",
              "      \"organization_id\": \"org-vuMjBZ3MAlUdZLyhw3qrq7He\",\n",
              "      \"result_files\": [\n",
              "        {\n",
              "          \"bytes\": 118581,\n",
              "          \"created_at\": 1644524251,\n",
              "          \"filename\": \"compiled_results.csv\",\n",
              "          \"id\": \"file-UVRm6OtutuSmi7dhG849X51p\",\n",
              "          \"object\": \"file\",\n",
              "          \"purpose\": \"fine-tune-results\",\n",
              "          \"status\": \"processed\",\n",
              "          \"status_details\": null\n",
              "        }\n",
              "      ],\n",
              "      \"status\": \"succeeded\",\n",
              "      \"training_files\": [\n",
              "        {\n",
              "          \"bytes\": 66456,\n",
              "          \"created_at\": 1644523382,\n",
              "          \"filename\": \"chanoTrain.jsonl\",\n",
              "          \"id\": \"file-AoxLdyLWFtmf4aJ5YfdnM9vo\",\n",
              "          \"object\": \"file\",\n",
              "          \"purpose\": \"fine-tune\",\n",
              "          \"status\": \"processed\",\n",
              "          \"status_details\": null\n",
              "        }\n",
              "      ],\n",
              "      \"updated_at\": 1644524254,\n",
              "      \"validation_files\": []\n",
              "    },\n",
              "    {\n",
              "      \"created_at\": 1644525517,\n",
              "      \"fine_tuned_model\": \"curie:ft-personal-2022-02-10-20-52-53\",\n",
              "      \"hyperparams\": {\n",
              "        \"batch_size\": 1,\n",
              "        \"learning_rate_multiplier\": 0.05,\n",
              "        \"n_epochs\": 4,\n",
              "        \"prompt_loss_weight\": 0.1\n",
              "      },\n",
              "      \"id\": \"ft-iy8PM1xQIy7Y4wbQROWBlE36\",\n",
              "      \"model\": \"curie\",\n",
              "      \"object\": \"fine-tune\",\n",
              "      \"organization_id\": \"org-vuMjBZ3MAlUdZLyhw3qrq7He\",\n",
              "      \"result_files\": [\n",
              "        {\n",
              "          \"bytes\": 118082,\n",
              "          \"created_at\": 1644526376,\n",
              "          \"filename\": \"compiled_results.csv\",\n",
              "          \"id\": \"file-xB8MZU9EAurOaDKsK2PggKCY\",\n",
              "          \"object\": \"file\",\n",
              "          \"purpose\": \"fine-tune-results\",\n",
              "          \"status\": \"processed\",\n",
              "          \"status_details\": null\n",
              "        }\n",
              "      ],\n",
              "      \"status\": \"succeeded\",\n",
              "      \"training_files\": [\n",
              "        {\n",
              "          \"bytes\": 64264,\n",
              "          \"created_at\": 1644525495,\n",
              "          \"filename\": \"chanoTrain2.jsonl\",\n",
              "          \"id\": \"file-xUEYJdwgdHyoCR63nKLVYjbP\",\n",
              "          \"object\": \"file\",\n",
              "          \"purpose\": \"fine-tune\",\n",
              "          \"status\": \"processed\",\n",
              "          \"status_details\": null\n",
              "        }\n",
              "      ],\n",
              "      \"updated_at\": 1644526379,\n",
              "      \"validation_files\": []\n",
              "    },\n",
              "    {\n",
              "      \"created_at\": 1644593081,\n",
              "      \"fine_tuned_model\": \"curie:ft-personal-2022-02-11-15-38-40\",\n",
              "      \"hyperparams\": {\n",
              "        \"batch_size\": 1,\n",
              "        \"learning_rate_multiplier\": 0.05,\n",
              "        \"n_epochs\": 4,\n",
              "        \"prompt_loss_weight\": 0.1\n",
              "      },\n",
              "      \"id\": \"ft-PfXRLmdyuVA3MsAF9wXelTVK\",\n",
              "      \"model\": \"curie\",\n",
              "      \"object\": \"fine-tune\",\n",
              "      \"organization_id\": \"org-vuMjBZ3MAlUdZLyhw3qrq7He\",\n",
              "      \"result_files\": [\n",
              "        {\n",
              "          \"bytes\": 118355,\n",
              "          \"created_at\": 1644593923,\n",
              "          \"filename\": \"compiled_results.csv\",\n",
              "          \"id\": \"file-j0TjHlqMU5R3hQmK7YjeoNfe\",\n",
              "          \"object\": \"file\",\n",
              "          \"purpose\": \"fine-tune-results\",\n",
              "          \"status\": \"processed\",\n",
              "          \"status_details\": null\n",
              "        }\n",
              "      ],\n",
              "      \"status\": \"succeeded\",\n",
              "      \"training_files\": [\n",
              "        {\n",
              "          \"bytes\": 64264,\n",
              "          \"created_at\": 1644525495,\n",
              "          \"filename\": \"chanoTrain2.jsonl\",\n",
              "          \"id\": \"file-xUEYJdwgdHyoCR63nKLVYjbP\",\n",
              "          \"object\": \"file\",\n",
              "          \"purpose\": \"fine-tune\",\n",
              "          \"status\": \"processed\",\n",
              "          \"status_details\": null\n",
              "        }\n",
              "      ],\n",
              "      \"updated_at\": 1644593925,\n",
              "      \"validation_files\": []\n",
              "    }\n",
              "  ],\n",
              "  \"object\": \"list\"\n",
              "}"
            ]
          },
          "metadata": {},
          "execution_count": 10
        }
      ]
    },
    {
      "cell_type": "markdown",
      "source": [
        "Generamos los outputs indicándole que use el modelo creado. Si bien se puede indicar como parámetro de la llamada la cantidad de salidas deseadas, hago varias llamadas con un for para poder quedarme directamente con sólo el texto y que así sea más fácil a la hora de leerlas y seleccionarlas. Documentación sobre los parámetros que se pueden usar [acá](https://beta.openai.com/docs/api-reference/completions)."
      ],
      "metadata": {
        "id": "YeRozavhWVdu"
      }
    },
    {
      "cell_type": "code",
      "source": [
        "import json\n",
        "import openai\n",
        "\n",
        "prompt=\"Chano:\"\n",
        "\n",
        "for i in range(5):\n",
        "  openai.api_key = api_key   \n",
        "  response = openai.Completion.create(\n",
        "      model=\"curie:ft-personal-2022-02-11-15-38-40\",\n",
        "      max_tokens=80,\n",
        "      prompt=prompt,\n",
        "      frequency_penalty=1,\n",
        "      temperature=0.8,\n",
        "      top_p=1,\n",
        "      stop=\".\"\n",
        "  )\n",
        "  print(i+1, \": \", response.choices[0].text)"
      ],
      "metadata": {
        "colab": {
          "base_uri": "https://localhost:8080/"
        },
        "id": "aFTtJWntI1d4",
        "outputId": "66e9be14-c091-4f78-9b35-b8a729edb2a2"
      },
      "execution_count": null,
      "outputs": [
        {
          "output_type": "stream",
          "name": "stdout",
          "text": [
            "1 :  Y en una de mis convulsiones matinales iniciava nuestra conversación, me decía que no pensara en salir, que no volviera a salir\n",
            "2 :  Ayer llovieron amuletos de la mala suerte\n",
            "3 :  Tengo en la memoria una pocas de tus cosas, las demás las invento\n",
            "4 :  Todas las mañanas del mundo y esta angustia barata\n",
            "5 :  Y vos, que estás al lado, no te acostumbras a escuchar las señales de mi destino\n"
          ]
        }
      ]
    },
    {
      "cell_type": "markdown",
      "source": [
        "Eso es todo!\n",
        "\n",
        "Claramente no todas las frases nos van a servir. Suele repetir frases que ya existen y decir cosas sin sentido, pero creo que la cantidad de buenos resultados es más que aceptable para el poco volumen de datos de entrenamiento que recibe."
      ],
      "metadata": {
        "id": "AdbWdE2FEL6Q"
      }
    }
  ]
}